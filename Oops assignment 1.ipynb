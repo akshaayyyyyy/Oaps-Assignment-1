{
 "cells": [
  {
   "cell_type": "markdown",
   "id": "623dae78-564a-468c-995a-2794e8845050",
   "metadata": {},
   "source": [
    "Q1. Explain Class and Object with respect to Object-Oriented Programming. Give a suitable example."
   ]
  },
  {
   "cell_type": "markdown",
   "id": "e518535a-46f1-4033-9f7b-141275b1ffa3",
   "metadata": {},
   "source": [
    "Class: Class is a blueprint for an object. Like real world entity has some properties or behavior which is represented by class variables and method in programming\n",
    "\n",
    "Object: As we know class is a logical entity while an object is typical or real entity that works on classes data\n"
   ]
  },
  {
   "cell_type": "code",
   "execution_count": 27,
   "id": "11fbbf90-7196-48af-b4b9-db9942866662",
   "metadata": {},
   "outputs": [],
   "source": [
    "class akshay:\n",
    "    \n",
    "    def my_details(self , name , age , qualification):\n",
    "        \n",
    "        print (name , age , qualification)"
   ]
  },
  {
   "cell_type": "code",
   "execution_count": 28,
   "id": "e30d76e9-e13e-4e25-b5bb-42068d04d0b7",
   "metadata": {},
   "outputs": [],
   "source": [
    "akshay_obj = akshay()"
   ]
  },
  {
   "cell_type": "code",
   "execution_count": 29,
   "id": "2877321b-f2da-498d-a991-9325cf98adeb",
   "metadata": {},
   "outputs": [
    {
     "name": "stdout",
     "output_type": "stream",
     "text": [
      "akshay 21 B.com graduated\n"
     ]
    }
   ],
   "source": [
    "akshay_obj.my_details(\"akshay\" , 21 , \"B.com graduated\")"
   ]
  },
  {
   "cell_type": "code",
   "execution_count": null,
   "id": "4d5f99df-c9ca-4711-837a-349b40ea2414",
   "metadata": {},
   "outputs": [],
   "source": []
  },
  {
   "cell_type": "markdown",
   "id": "5638be18-389b-40cc-932d-55f834de5459",
   "metadata": {},
   "source": [
    "Q2. Name the four pillars of OOPs.\n",
    "\n",
    "1.POLYMORPHISM\n",
    "\n",
    "2.ENCAPSULATION\n",
    "\n",
    "3.INHERITANCE\n",
    "\n",
    "4.ABSTRACTION"
   ]
  },
  {
   "cell_type": "code",
   "execution_count": null,
   "id": "1cc17af2-346a-4767-be0b-239d54a3f1f3",
   "metadata": {},
   "outputs": [],
   "source": []
  },
  {
   "cell_type": "markdown",
   "id": "a9098748-6ad1-432f-a3d5-ba37c8caaeb1",
   "metadata": {},
   "source": [
    "Q3. Explain why the __init__() function is used. Give a suitable example.\n",
    "\n",
    "\"__init__\" is a reseved method in python classes. It is called as a constructor in object oriented terminology. This method is called when an object is created from a class and it allows the class to initialize the attributes of the class."
   ]
  },
  {
   "cell_type": "code",
   "execution_count": 31,
   "id": "2bdad8d2-9591-44e3-90c2-77ebb799ef4f",
   "metadata": {},
   "outputs": [],
   "source": [
    "class pwskills:\n",
    "    \n",
    "    def __init__(self , student_name , course_name ):\n",
    "        self.student_name = student_name\n",
    "        self.course_name = course_name\n",
    "        \n",
    "    def return_student_details(self):\n",
    "        return self.student_name , self.course_name"
   ]
  },
  {
   "cell_type": "code",
   "execution_count": 32,
   "id": "62d4de12-6ad5-4bd5-a5e3-68a7b1292252",
   "metadata": {},
   "outputs": [],
   "source": [
    "obj  = pwskills(\"akshay poojary\" , \"data science masters\")"
   ]
  },
  {
   "cell_type": "code",
   "execution_count": 36,
   "id": "7f624c41-c313-46d7-9a98-dda1475c9711",
   "metadata": {},
   "outputs": [
    {
     "data": {
      "text/plain": [
       "('akshay poojary', 'data science masters')"
      ]
     },
     "execution_count": 36,
     "metadata": {},
     "output_type": "execute_result"
    }
   ],
   "source": [
    "obj.return_student_details()"
   ]
  },
  {
   "cell_type": "code",
   "execution_count": null,
   "id": "540d4eff-9153-40bb-8ee3-7404c13d5ca0",
   "metadata": {},
   "outputs": [],
   "source": []
  },
  {
   "cell_type": "markdown",
   "id": "15996764-9462-4328-a1a3-8cfd83afae27",
   "metadata": {},
   "source": [
    "Q4. Why self is used in OOPs?\n",
    "\n",
    "SELF represents the instance of class. This handy keyword allows you to access variables, attributes, and methods of a defined class in Python.The self parameter doesn’t have to be named “self,” as you can call it by any other name. However, the self parameter must always be the first parameter of any class function, regardless of the name chosen. So instead of self, you could use “Mine” or “Ours” or anything else.\n"
   ]
  },
  {
   "cell_type": "code",
   "execution_count": null,
   "id": "80a4aa86-e29c-49b5-8610-686d9ad80162",
   "metadata": {},
   "outputs": [],
   "source": []
  },
  {
   "cell_type": "markdown",
   "id": "00c0e96e-7df5-4149-8317-31a942662522",
   "metadata": {},
   "source": [
    "Q5.What is inheritance? Give an example for each type of inheritance.\n",
    "\n",
    "Inheritance allows us to define a class that inherits all the methods and properties from another class. Parent class is the class being inherited from, also called base class. Child class is the class that inherits from another class, also called derived class."
   ]
  },
  {
   "cell_type": "code",
   "execution_count": 41,
   "id": "5184cfbb-4517-4a27-a4a1-2274a8c8ede2",
   "metadata": {},
   "outputs": [],
   "source": [
    "class pwskill:\n",
    "    def student(self):\n",
    "        return \"student of pwskill\"\n",
    "    \n",
    "class course(pwskill):\n",
    "    pass"
   ]
  },
  {
   "cell_type": "code",
   "execution_count": 42,
   "id": "16497e38-f98a-4fb4-b8f9-0de31fccec44",
   "metadata": {},
   "outputs": [],
   "source": [
    "obj = course()"
   ]
  },
  {
   "cell_type": "code",
   "execution_count": 46,
   "id": "a2b33da5-0f0b-41cd-943e-30115ef9187b",
   "metadata": {},
   "outputs": [
    {
     "data": {
      "text/plain": [
       "'student of pwskill'"
      ]
     },
     "execution_count": 46,
     "metadata": {},
     "output_type": "execute_result"
    }
   ],
   "source": [
    "obj.student()"
   ]
  },
  {
   "cell_type": "code",
   "execution_count": null,
   "id": "18b06a4e-7535-4491-ae94-a231db9214c6",
   "metadata": {},
   "outputs": [],
   "source": []
  },
  {
   "cell_type": "markdown",
   "id": "210b72d1-19b9-4f1c-b848-19b3bdab5283",
   "metadata": {},
   "source": [
    "MULTI LABEL INHERITANCE"
   ]
  },
  {
   "cell_type": "code",
   "execution_count": 50,
   "id": "b1119969-029b-4a5f-81b1-f0c12c80a925",
   "metadata": {},
   "outputs": [],
   "source": [
    "class umesh:\n",
    "    def umesh_poojary(self):\n",
    "        return \"umesh gangaya poojary\"\n",
    "    \n",
    "class akshay(umesh):\n",
    "    def akshay_poojary(self):\n",
    "        return \"akshay umesh poojary\" \n",
    "class poojary(akshay):\n",
    "    pass"
   ]
  },
  {
   "cell_type": "code",
   "execution_count": 51,
   "id": "5f1e100b-91ed-4506-b264-0223c97fba42",
   "metadata": {},
   "outputs": [],
   "source": [
    "poojary_obj = poojary()"
   ]
  },
  {
   "cell_type": "code",
   "execution_count": 53,
   "id": "556d3cd5-ff1a-4b85-adde-e11bddcc69a0",
   "metadata": {},
   "outputs": [
    {
     "data": {
      "text/plain": [
       "'umesh gangaya poojary'"
      ]
     },
     "execution_count": 53,
     "metadata": {},
     "output_type": "execute_result"
    }
   ],
   "source": [
    "poojary_obj.umesh_poojary()"
   ]
  },
  {
   "cell_type": "code",
   "execution_count": 54,
   "id": "884f0ef1-d05e-41b9-8ddc-b88b879d3972",
   "metadata": {},
   "outputs": [
    {
     "data": {
      "text/plain": [
       "'akshay umesh poojary'"
      ]
     },
     "execution_count": 54,
     "metadata": {},
     "output_type": "execute_result"
    }
   ],
   "source": [
    "poojary_obj.akshay_poojary()"
   ]
  },
  {
   "cell_type": "code",
   "execution_count": null,
   "id": "83545344-cb2a-400d-a67c-b51a1fe29ad4",
   "metadata": {},
   "outputs": [],
   "source": []
  },
  {
   "cell_type": "markdown",
   "id": "2e4890f4-0b89-4d25-b429-6be4e2300c01",
   "metadata": {},
   "source": [
    "MULTIPLE INHERITANCE"
   ]
  },
  {
   "cell_type": "code",
   "execution_count": 55,
   "id": "a47bd211-414f-4fa4-8f1a-c2c62237085a",
   "metadata": {},
   "outputs": [],
   "source": [
    "class umesh:\n",
    "    def umesh_poojary(self):\n",
    "        return \"i am his father\"\n",
    "    \n",
    "class baby:\n",
    "    def baby_poojary(self):\n",
    "        return \"i am his mother\"\n",
    "    \n",
    "class akshay(umesh , baby):\n",
    "    pass    "
   ]
  },
  {
   "cell_type": "code",
   "execution_count": 57,
   "id": "79783ce0-a484-4c45-b9c3-4e5ee23f2949",
   "metadata": {},
   "outputs": [],
   "source": [
    "akshay_poojary = akshay()"
   ]
  },
  {
   "cell_type": "code",
   "execution_count": 63,
   "id": "67496786-8387-4a5a-b1d3-0d41e52fd31a",
   "metadata": {},
   "outputs": [
    {
     "data": {
      "text/plain": [
       "'i am his father'"
      ]
     },
     "execution_count": 63,
     "metadata": {},
     "output_type": "execute_result"
    }
   ],
   "source": [
    "akshay_poojary.umesh_poojary()"
   ]
  },
  {
   "cell_type": "code",
   "execution_count": 64,
   "id": "aaaf8de7-338e-4052-958c-09ff400670cb",
   "metadata": {},
   "outputs": [
    {
     "data": {
      "text/plain": [
       "'i am his mother'"
      ]
     },
     "execution_count": 64,
     "metadata": {},
     "output_type": "execute_result"
    }
   ],
   "source": [
    "akshay_poojary.baby_poojary()"
   ]
  },
  {
   "cell_type": "code",
   "execution_count": null,
   "id": "c325a7a3-91db-4719-94ae-808ec4853d9a",
   "metadata": {},
   "outputs": [],
   "source": []
  }
 ],
 "metadata": {
  "kernelspec": {
   "display_name": "Python 3 (ipykernel)",
   "language": "python",
   "name": "python3"
  },
  "language_info": {
   "codemirror_mode": {
    "name": "ipython",
    "version": 3
   },
   "file_extension": ".py",
   "mimetype": "text/x-python",
   "name": "python",
   "nbconvert_exporter": "python",
   "pygments_lexer": "ipython3",
   "version": "3.10.8"
  }
 },
 "nbformat": 4,
 "nbformat_minor": 5
}
